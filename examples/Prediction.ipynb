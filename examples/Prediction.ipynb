{
 "cells": [
  {
   "cell_type": "code",
   "execution_count": 4,
   "id": "9642c569",
   "metadata": {},
   "outputs": [
    {
     "ename": "ImportError",
     "evalue": "cannot import name 'AlBuNet'",
     "output_type": "error",
     "traceback": [
      "\u001b[1;31m---------------------------------------------------------------------------\u001b[0m",
      "\u001b[1;31mImportError\u001b[0m                               Traceback (most recent call last)",
      "\u001b[1;32m<ipython-input-4-1d3f7f7c3db6>\u001b[0m in \u001b[0;36m<module>\u001b[1;34m\u001b[0m\n\u001b[0;32m     12\u001b[0m     \u001b[0msys\u001b[0m\u001b[1;33m.\u001b[0m\u001b[0mpath\u001b[0m\u001b[1;33m.\u001b[0m\u001b[0mappend\u001b[0m\u001b[1;33m(\u001b[0m\u001b[0mmodule_path\u001b[0m\u001b[1;33m)\u001b[0m\u001b[1;33m\u001b[0m\u001b[1;33m\u001b[0m\u001b[0m\n\u001b[0;32m     13\u001b[0m \u001b[1;33m\u001b[0m\u001b[0m\n\u001b[1;32m---> 14\u001b[1;33m \u001b[1;32mfrom\u001b[0m \u001b[0mbuilding_footprint_segmentation\u001b[0m\u001b[1;33m.\u001b[0m\u001b[0mseg\u001b[0m\u001b[1;33m.\u001b[0m\u001b[0mbinary\u001b[0m\u001b[1;33m.\u001b[0m\u001b[0mmodels\u001b[0m \u001b[1;32mimport\u001b[0m \u001b[0mAlBuNet\u001b[0m\u001b[1;33m\u001b[0m\u001b[1;33m\u001b[0m\u001b[0m\n\u001b[0m\u001b[0;32m     15\u001b[0m \u001b[1;32mfrom\u001b[0m \u001b[0mbuilding_footprint_segmentation\u001b[0m\u001b[1;33m.\u001b[0m\u001b[0mhelpers\u001b[0m\u001b[1;33m.\u001b[0m\u001b[0mnormalizer\u001b[0m \u001b[1;32mimport\u001b[0m \u001b[0mmin_max_image_net\u001b[0m\u001b[1;33m\u001b[0m\u001b[1;33m\u001b[0m\u001b[0m\n\u001b[0;32m     16\u001b[0m from building_footprint_segmentation.utils.py_network import (\n",
      "\u001b[1;31mImportError\u001b[0m: cannot import name 'AlBuNet'"
     ]
    }
   ],
   "source": [
    "import os.path\n",
    "import sys\n",
    "import cv2\n",
    "import torch\n",
    "import numpy as np\n",
    "\n",
    "from imageio import imsave\n",
    "from torch.utils import model_zoo\n",
    "\n",
    "module_path = os.path.abspath(os.path.join('../'))\n",
    "if module_path not in sys.path:\n",
    "    sys.path.append(module_path)\n",
    "\n",
    "from building_footprint_segmentation.seg.binary.models import DLinkNet34, ReFineNet\n",
    "from building_footprint_segmentation.helpers.normalizer import min_max_image_net\n",
    "from building_footprint_segmentation.utils.py_network import (\n",
    "    to_input_image_tensor,\n",
    "    add_extra_dimension,\n",
    "    convert_tensor_to_numpy,\n",
    "    load_parallel_model,\n",
    "    adjust_model,\n",
    ")\n",
    "from building_footprint_segmentation.utils.operations import handle_image_size"
   ]
  },
  {
   "cell_type": "code",
   "execution_count": 35,
   "id": "3ab1e3d3",
   "metadata": {},
   "outputs": [],
   "source": [
    "MAX_SIZE = 384\n",
    "TRAINED_MODEL = \n",
    "MODEL_URL = \"https://github.com/fuzailpalnak/building-footprint-segmentation/releases/download/alpha/DlinkNet.zip\""
   ]
  },
  {
   "cell_type": "code",
   "execution_count": null,
   "id": "dc4296e5",
   "metadata": {},
   "outputs": [],
   "source": [
    "def set_model_weights():\n",
    "    state_dict = model_zoo.load_url(MODEL_URL, progress=True, map_location=\"cpu\")\n",
    "    if \"model\" in state_dict:\n",
    "        state_dict = state_dict[\"model\"]\n",
    "    TRAINED_MODEL.load_state_dict(adjust_model(state_dict))\n",
    "\n",
    "\n",
    "def extract(original_image):\n",
    "    original_height, original_width = original_image.shape[:2]\n",
    "\n",
    "    if (original_height, original_width) != (MAX_SIZE, MAX_SIZE):\n",
    "        original_image = handle_image_size(original_image, (MAX_SIZE, MAX_SIZE))\n",
    "\n",
    "    # Apply Normalization\n",
    "    normalized_image = min_max_image_net(img=original_image)\n",
    "\n",
    "    tensor_image = add_extra_dimension(to_input_image_tensor(normalized_image))\n",
    "\n",
    "    with torch.no_grad():\n",
    "        # Perform prediction\n",
    "        prediction = TRAINED_MODEL(tensor_image)\n",
    "        prediction = prediction.sigmoid()\n",
    "\n",
    "    prediction_binary = convert_tensor_to_numpy(prediction[0]).reshape(\n",
    "        (MAX_SIZE, MAX_SIZE)\n",
    "    )\n",
    "\n",
    "    prediction_3_channels = cv2.cvtColor(prediction_binary, cv2.COLOR_GRAY2RGB)\n",
    "\n",
    "    dst = cv2.addWeighted(\n",
    "        original_image,\n",
    "        1,\n",
    "        (prediction_3_channels * (0, 255, 0)).astype(np.uint8),\n",
    "        0.4,\n",
    "        0,\n",
    "    )\n",
    "    return prediction_binary, prediction_3_channels, dst\n"
   ]
  },
  {
   "cell_type": "code",
   "execution_count": null,
   "id": "06a78a29",
   "metadata": {},
   "outputs": [],
   "source": [
    "def run(image_path):\n",
    "    original_image = cv2.imread(image_path)\n",
    "    original_image = cv2.cvtColor(original_image, cv2.COLOR_BGR2RGB)\n",
    "\n",
    "    set_model_weights()\n",
    "    # PARALLELIZE the model if gpu available\n",
    "    # model = load_parallel_model(model)\n",
    "\n",
    "    prediction_binary, prediction_3_channels, dst = extract(original_image)\n",
    "    # imsave(f\"{os.path.basename(image_path)}\", prediction_binary)"
   ]
  },
  {
   "cell_type": "code",
   "execution_count": null,
   "id": "8d090485",
   "metadata": {},
   "outputs": [],
   "source": [
    "pred = run(r\"C:\\Users\\Fuzail.Palnak\\UHD\\files\\bld\\test\\images\\3_22828930_15.png\")\n",
    "\n",
    "fig,ax = plt.subplots(5,5,figsize = (15,15))\n",
    "ax = ax.ravel()\n",
    "for i in range(3):\n",
    "  image = pred[i]\n",
    "  ax[i].imshow(image)  \n",
    "plt.show()"
   ]
  }
 ],
 "metadata": {
  "kernelspec": {
   "display_name": "Python 3",
   "language": "python",
   "name": "python3"
  },
  "language_info": {
   "codemirror_mode": {
    "name": "ipython",
    "version": 3
   },
   "file_extension": ".py",
   "mimetype": "text/x-python",
   "name": "python",
   "nbconvert_exporter": "python",
   "pygments_lexer": "ipython3",
   "version": "3.6.13"
  }
 },
 "nbformat": 4,
 "nbformat_minor": 5
}
